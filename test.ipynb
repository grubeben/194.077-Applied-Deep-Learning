{
 "cells": [
  {
   "attachments": {},
   "cell_type": "markdown",
   "metadata": {},
   "source": [
    "## Define test method"
   ]
  },
  {
   "cell_type": "code",
   "execution_count": 1,
   "metadata": {},
   "outputs": [
    {
     "name": "stderr",
     "output_type": "stream",
     "text": [
      "pybullet build time: May 20 2022 19:44:17\n",
      "2022-12-10 10:03:30.247761: I tensorflow/core/platform/cpu_feature_guard.cc:193] This TensorFlow binary is optimized with oneAPI Deep Neural Network Library (oneDNN) to use the following CPU instructions in performance-critical operations:  AVX2 AVX512F AVX512_VNNI FMA\n",
      "To enable them in other operations, rebuild TensorFlow with the appropriate compiler flags.\n",
      "2022-12-10 10:03:31.293322: I tensorflow/core/util/port.cc:104] oneDNN custom operations are on. You may see slightly different numerical results due to floating-point round-off errors from different computation orders. To turn them off, set the environment variable `TF_ENABLE_ONEDNN_OPTS=0`.\n",
      "2022-12-10 10:03:31.354674: W tensorflow/compiler/xla/stream_executor/platform/default/dso_loader.cc:64] Could not load dynamic library 'libcudart.so.11.0'; dlerror: libcudart.so.11.0: cannot open shared object file: No such file or directory\n",
      "2022-12-10 10:03:31.354861: I tensorflow/compiler/xla/stream_executor/cuda/cudart_stub.cc:29] Ignore above cudart dlerror if you do not have a GPU set up on your machine.\n",
      "2022-12-10 10:03:32.571369: W tensorflow/compiler/xla/stream_executor/platform/default/dso_loader.cc:64] Could not load dynamic library 'libnvinfer.so.7'; dlerror: libnvinfer.so.7: cannot open shared object file: No such file or directory\n",
      "2022-12-10 10:03:32.571770: W tensorflow/compiler/xla/stream_executor/platform/default/dso_loader.cc:64] Could not load dynamic library 'libnvinfer_plugin.so.7'; dlerror: libnvinfer_plugin.so.7: cannot open shared object file: No such file or directory\n",
      "2022-12-10 10:03:32.571779: W tensorflow/compiler/tf2tensorrt/utils/py_utils.cc:38] TF-TRT Warning: Cannot dlopen some TensorRT libraries. If you would like to use Nvidia GPU with TensorRT, please make sure the missing libraries mentioned above are installed properly.\n",
      "/home/grube/.local/lib/python3.8/site-packages/tensorflow_addons/utils/ensure_tf_install.py:53: UserWarning: Tensorflow Addons supports using Python ops for all Tensorflow versions above or equal to 2.8.0 and strictly below 2.11.0 (nightly versions are not supported). \n",
      " The versions of TensorFlow you are currently using is 2.11.0 and is not supported. \n",
      "Some things might work, some things might not.\n",
      "If you were to encounter a bug, do not file an issue.\n",
      "If you want to make sure you're using a tested and supported configuration, either change the TensorFlow version or the TensorFlow Addons's version. \n",
      "You can find the compatibility matrix in TensorFlow Addon's readme:\n",
      "https://github.com/tensorflow/addons\n",
      "  warnings.warn(\n"
     ]
    }
   ],
   "source": [
    "import gym\n",
    "import pybullet as p\n",
    "import pybullet_envs\n",
    "import pygame\n",
    "import numpy as np\n",
    "import tensorflow as tf\n",
    "from tensorflow import keras\n",
    "\n",
    "from datetime import datetime\n",
    "import os\n",
    "from tkinter import Tk\n",
    "from tkinter.filedialog import askopenfilename\n",
    "\n",
    "import matplotlib.pyplot as plt\n",
    "from IPython.display import clear_output\n",
    "from IPython import display\n",
    "os.environ[\"SDL_VIDEODRIVER\"] = \"dummy\"\n",
    "from gym import wrappers\n",
    "\n",
    "import a2cagent_continuous_2 as a2cc\n",
    "import continuous_cartpole as continuous_cartpole"
   ]
  },
  {
   "cell_type": "code",
   "execution_count": 2,
   "metadata": {},
   "outputs": [],
   "source": [
    "def test(num_episodes=10, env_str=\"ContinuousCartPoleEnv\", policy=\"A2C061220221730ContinuousCartPoleEnv_collapse\", add_branch_layer=False, use_existing_policy=True, state_normalization=False, batch_normalization=False, specification=\"\"):\n",
    "    # check for custom CARTPOLE ENV\n",
    "    custom_cart = False\n",
    "    if (env_str == \"ContinuousCartPoleEnv\"):\n",
    "        custom_cart = True\n",
    "\n",
    "    # load environment\n",
    "    env = None\n",
    "    if (custom_cart == True):\n",
    "        env = continuous_cartpole.ContinuousCartPoleEnv()\n",
    "    else:\n",
    "        env = gym.make(env_str) #render_mode='rgb_array'\n",
    "    #env = wrappers.Monitor(env, \"./test_continuous\", force=True)\n",
    "    s0 = env.reset()\n",
    "\n",
    "    act_space_low = env.action_space.low[0]\n",
    "    act_space_high = env.action_space.high[0]\n",
    "    obs_dim = env.observation_space.shape[0]\n",
    "\n",
    "    # state normalisation\n",
    "    state_space_samples = np.array(\n",
    "        [env.observation_space.sample() for x in range(6400)])\n",
    "    if (env_str == \"CartPoleContinuousBulletEnv-v0\" or custom_cart == True):\n",
    "        # method does not yield reasonable results for CartPole, so we load some historical state data\n",
    "        state_space_samples = np.loadtxt(os.getcwd()+\"/obs-samples/norm_a.txt\")\n",
    "\n",
    "    # initiate agent\n",
    "    model = a2cc.A2CAgent(s0, act_space_high, act_space_low, state_space_samples, obs_dim, state_normalization, batch_normalization,\n",
    "                          use_existing_policy, add_branch_layer)\n",
    "    # compile NN with inherited keras-method\n",
    "    # add gradient clipping keras.optimizers.Adam(clipvalue=0.5) clipping keras.optimizers.Adam(clipnorm=1.0)\n",
    "    model.compile(optimizer=keras.optimizers.Adam(), loss=[\n",
    "                  model.critic_loss, model.actor_loss])\n",
    "\n",
    "    # load weights from existing model\n",
    "    if use_existing_policy == True:\n",
    "        model.train_on_batch(tf.stack(np.zeros((model.batch_size, model.obs_dim))), [\n",
    "                             np.zeros((model.batch_size, 1)), np.zeros((model.batch_size, 2))])\n",
    "        model.load_weights(\n",
    "            model.my_path+'/training_continuous/models/' + policy+\"/\")\n",
    "\n",
    "        \"\"\"non WSL version\"\"\"\n",
    "        # Tk().withdraw()\n",
    "        # filename = askopenfilename()\n",
    "        # model.load_weights(filename)\n",
    "\n",
    "    # set up TensorBoard to visualize progress\n",
    "    train_writer = tf.summary.create_file_writer(\n",
    "        model.my_path + '/test_continuous/tensorboard'+policy+\"_\"+specification)\n",
    "\n",
    "    # environment interaction\n",
    "    episode_reward_sum = 0\n",
    "    s = env.reset()\n",
    "    episode = 1\n",
    "    step=0\n",
    "    while(episode<=num_episodes):\n",
    "        # obtain action distibution\n",
    "        _, _ = model(s.reshape(1, -1))\n",
    "        a_t, V_t = model.action_value(s.reshape(1, -1))  # choose action\n",
    "        s_new, reward, done, _ = env.step(a_t.numpy()[0])  # make step\n",
    "        \n",
    "        #render1 - in jupyter notebook\n",
    "        if (step%model.render_size==0):\n",
    "            clear_output(wait=True)\n",
    "            x=env.render(mode='rgb_array')\n",
    "            plt.imshow( x )\n",
    "            plt.show()\n",
    "\n",
    "        episode_reward_sum += reward\n",
    "        s = s_new\n",
    "\n",
    "        # handle end of episode\n",
    "        if done:\n",
    "            s = env.reset()\n",
    "            # print(\n",
    "            #     f\"Episode: {episode}, latest episode reward: {episode_reward_sum}\")\n",
    "            with train_writer.as_default():\n",
    "                tf.summary.scalar('rewards', episode_reward_sum, episode)\n",
    "\n",
    "            episode_reward_sum = 0\n",
    "            episode += 1\n",
    "\n",
    "    env.close()\n"
   ]
  },
  {
   "attachments": {},
   "cell_type": "markdown",
   "metadata": {},
   "source": [
    "## Set Up Test Run"
   ]
  },
  {
   "cell_type": "code",
   "execution_count": 3,
   "metadata": {},
   "outputs": [
    {
     "data": {
      "image/png": "[encoded data removed]",
      "text/plain": [
       "<Figure size 640x480 with 1 Axes>"
      ]
     },
     "metadata": {},
     "output_type": "display_data"
    }
   ],
   "source": [
    "# \"CartPoleContinuousBulletEnv-v0\", \"ContinuousCartPoleEnv\", \"MountainCarContinuous-v0\", \"Pendulum-v1\",  \"HopperBulletEnv-v0\", \"(LunarLanderContinuous-v2\")\n",
    "test(num_episodes=1, env_str=\"MountainCarContinuous-v0\", policy=\"A2C101220220847MountainCarContinuous-v0_learns_insufficiently\",\n",
    "        specification=\"test_run\", add_branch_layer=True, state_normalization=True, batch_normalization=True, use_existing_policy=False)"
   ]
  }
 ],
 "metadata": {
  "kernelspec": {
   "display_name": "Python 3.8.10 64-bit",
   "language": "python",
   "name": "python3"
  },
  "language_info": {
   "codemirror_mode": {
    "name": "ipython",
    "version": 3
   },
   "file_extension": ".py",
   "mimetype": "text/x-python",
   "name": "python",
   "nbconvert_exporter": "python",
   "pygments_lexer": "ipython3",
   "version": "3.8.10"
  },
  "orig_nbformat": 4,
  "vscode": {
   "interpreter": {
    "hash": "916dbcbb3f70747c44a77c7bcd40155683ae19c65e1c03b4aa3499c5328201f1"
   }
  }
 },
 "nbformat": 4,
 "nbformat_minor": 2
}
