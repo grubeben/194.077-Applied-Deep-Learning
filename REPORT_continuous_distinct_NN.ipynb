{
 "cells": [
  {
   "attachments": {},
   "cell_type": "markdown",
   "metadata": {},
   "source": [
    "# This is the control room for A2C training with continuous action-space\n",
    "It will allow you to..\n",
    "* Play around with an n-step A2C agent (**I**), follow it's live performance and visualize the learned policy (**II**)\n",
    "* Get an insight into how different agent configurations affect performance and convergence stability (**III** )\n",
    "\n",
    "### How to\n",
    "* If you want to see the agent training in live just follow the notebook instructions in the order presented\n",
    "* If you are in a hurry and are just interested in the results this A2C- implementation achieved, fast forward to (**III**)\n",
    "* For details on the methods that are used to train the agent, please refer to the 'train_continuous_distinct_NN.py' and 'a2cagent_continuous_distinct_NN.py' scripts, you will find documentation there\n",
    "* For more theoretical background on the A2C method, please refer to the **FOUNDATIONS** section in the README.md file"
   ]
  },
  {
   "cell_type": "code",
   "execution_count": 1,
   "metadata": {},
   "outputs": [
    {
     "name": "stderr",
     "output_type": "stream",
     "text": [
      "2022-12-14 10:16:04.735980: I tensorflow/core/platform/cpu_feature_guard.cc:193] This TensorFlow binary is optimized with oneAPI Deep Neural Network Library (oneDNN) to use the following CPU instructions in performance-critical operations:  AVX2 AVX512F AVX512_VNNI FMA\n",
      "To enable them in other operations, rebuild TensorFlow with the appropriate compiler flags.\n",
      "2022-12-14 10:16:04.958404: I tensorflow/core/util/port.cc:104] oneDNN custom operations are on. You may see slightly different numerical results due to floating-point round-off errors from different computation orders. To turn them off, set the environment variable `TF_ENABLE_ONEDNN_OPTS=0`.\n",
      "2022-12-14 10:16:04.963437: W tensorflow/compiler/xla/stream_executor/platform/default/dso_loader.cc:64] Could not load dynamic library 'libcudart.so.11.0'; dlerror: libcudart.so.11.0: cannot open shared object file: No such file or directory\n",
      "2022-12-14 10:16:04.963474: I tensorflow/compiler/xla/stream_executor/cuda/cudart_stub.cc:29] Ignore above cudart dlerror if you do not have a GPU set up on your machine.\n",
      "2022-12-14 10:16:05.595016: W tensorflow/compiler/xla/stream_executor/platform/default/dso_loader.cc:64] Could not load dynamic library 'libnvinfer.so.7'; dlerror: libnvinfer.so.7: cannot open shared object file: No such file or directory\n",
      "2022-12-14 10:16:05.595116: W tensorflow/compiler/xla/stream_executor/platform/default/dso_loader.cc:64] Could not load dynamic library 'libnvinfer_plugin.so.7'; dlerror: libnvinfer_plugin.so.7: cannot open shared object file: No such file or directory\n",
      "2022-12-14 10:16:05.595123: W tensorflow/compiler/tf2tensorrt/utils/py_utils.cc:38] TF-TRT Warning: Cannot dlopen some TensorRT libraries. If you would like to use Nvidia GPU with TensorRT, please make sure the missing libraries mentioned above are installed properly.\n",
      "pybullet build time: May 20 2022 19:44:17\n"
     ]
    }
   ],
   "source": [
    "%%capture \n",
    "#hide loading information\n",
    "\n",
    "#import python files and modules\n",
    "import tensorflow as tf\n",
    "import datetime, os\n",
    "import a2cagent_continuous_distinct_NN\n",
    "import train_continuous_distinct_NN as train\n",
    ";"
   ]
  },
  {
   "attachments": {},
   "cell_type": "markdown",
   "metadata": {},
   "source": [
    "## Information on the distinct_NN agent\n",
    "\n",
    "- We saw that **state normalisation** helped the distinct agent a great deal, since the observation_space is the same for both \n",
    "- **Batch normalisation** had only negative effects on the discrete agent, which is why this agent does not feature the option anymore\n",
    "\n",
    "- Some articles mentioned **gradient clipping** to be essential to the continuous agent's learning progress, so this is a new feature\n",
    "\n",
    "- $learning-rate_{critic} >> learning-rate_{actor}$  (lr values can now also be set as argument when starting a sesion)\n",
    "\n",
    "**DIFFERENCES TO THE *SHARED_NN*-VERSION:**\n",
    "\n",
    "- critic NN has more nodes than actor NN now (this was suggested in literature)\n",
    "\n",
    "\n",
    "\n",
    "\n",
    "## I Use the A2C to learn a control task\n",
    "\n",
    "#### Enable TensorBoard"
   ]
  },
  {
   "cell_type": "code",
   "execution_count": 5,
   "metadata": {},
   "outputs": [],
   "source": [
    "%load_ext tensorboard"
   ]
  },
  {
   "attachments": {},
   "cell_type": "markdown",
   "metadata": {},
   "source": [
    "#### Initialize Training Session"
   ]
  },
  {
   "cell_type": "code",
   "execution_count": 2,
   "metadata": {},
   "outputs": [
    {
     "name": "stderr",
     "output_type": "stream",
     "text": [
      "2022-12-14 10:16:13.792282: W tensorflow/compiler/xla/stream_executor/platform/default/dso_loader.cc:64] Could not load dynamic library 'libcuda.so.1'; dlerror: libcuda.so.1: cannot open shared object file: No such file or directory\n",
      "2022-12-14 10:16:13.792349: W tensorflow/compiler/xla/stream_executor/cuda/cuda_driver.cc:265] failed call to cuInit: UNKNOWN ERROR (303)\n",
      "2022-12-14 10:16:13.792370: I tensorflow/compiler/xla/stream_executor/cuda/cuda_diagnostics.cc:156] kernel driver does not appear to be running on this host (DESKTOP-DJJB008): /proc/driver/nvidia/version does not exist\n",
      "2022-12-14 10:16:13.792665: I tensorflow/core/platform/cpu_feature_guard.cc:193] This TensorFlow binary is optimized with oneAPI Deep Neural Network Library (oneDNN) to use the following CPU instructions in performance-critical operations:  AVX2 AVX512F AVX512_VNNI FMA\n",
      "To enable them in other operations, rebuild TensorFlow with the appropriate compiler flags.\n"
     ]
    }
   ],
   "source": [
    "%%capture\n",
    "session = train.Session(converged_reward_limit=195, env_str=\"ContinuousCartPoleEnv\", gradient_clipnorm=0.5, lr_actor=0.0001,lr_critic=0.001, \n",
    "activation_function='mish', initializer='xavier', state_normalization=True, specification=\"JUPYTER_DEMO_RUN\", use_existing_policy=False)\n",
    "# run for 1 batch to initialize\n",
    "session.train(max_num_batches=1)\n",
    "# define tensorflow data log\n",
    "tb_dir = session.model.tb_path + '/'\n",
    ";"
   ]
  },
  {
   "attachments": {},
   "cell_type": "markdown",
   "metadata": {},
   "source": [
    "#### Start TensorBoard Session\n",
    "1. Run the next block twice (until TensorBoard shows up)\n",
    "2. Use the 'Settings'-button on the top right corner and activate 'Reload data'  (alternatively make yourself familiar with the 'Update' button)\n",
    "3. **Settings>General>HorizontalAxis>Relative** might make for a better experience\n",
    "\n",
    "*NOTE (y-axis)*: \n",
    "\n",
    "If you use HorizontalAxis> Step rewards are visualized over 'number of episodes', while losses are visualized over 'number of batches'"
   ]
  },
  {
   "cell_type": "code",
   "execution_count": 7,
   "metadata": {},
   "outputs": [
    {
     "data": {
      "text/plain": [
       "Reusing TensorBoard on port 6006 (pid 32694), started 0:00:01 ago. (Use '!kill 32694' to kill it.)"
      ]
     },
     "metadata": {},
     "output_type": "display_data"
    },
    {
     "data": {
      "text/html": [
       "\n",
       "      <iframe id=\"tensorboard-frame-f56ee9cacfae1f96\" width=\"100%\" height=\"800\" frameborder=\"0\">\n",
       "      </iframe>\n",
       "      <script>\n",
       "        (function() {\n",
       "          const frame = document.getElementById(\"tensorboard-frame-f56ee9cacfae1f96\");\n",
       "          const url = new URL(\"http://localhost\");\n",
       "          const port = 6006;\n",
       "          if (port) {\n",
       "            url.port = port;\n",
       "          }\n",
       "          frame.src = url;\n",
       "        })();\n",
       "      </script>\n",
       "    "
      ],
      "text/plain": [
       "<IPython.core.display.HTML object>"
      ]
     },
     "metadata": {},
     "output_type": "display_data"
    }
   ],
   "source": [
    "%tensorboard --logdir {tb_dir}"
   ]
  },
  {
   "attachments": {},
   "cell_type": "markdown",
   "metadata": {},
   "source": [
    "### Start training and interupt for visualization\n",
    "1. By executing the next block, training will be initialized\n",
    "2. In order to watch progress return to TensorBoard Dashboard\n",
    "\n",
    "Dashboard will be updated every 30sec or else when you hit the 'Update' button\n",
    "\n",
    "##### We will now run the training script for short number of episodes, before we interupt the effort in order to visualize the control behaviour. We might be able to derive some clues from this:"
   ]
  },
  {
   "cell_type": "code",
   "execution_count": 8,
   "metadata": {},
   "outputs": [],
   "source": [
    "%%capture \n",
    "# we will just run a few batches\n",
    "session.train(max_num_batches=20) "
   ]
  },
  {
   "attachments": {},
   "cell_type": "markdown",
   "metadata": {},
   "source": [
    "\n",
    "#### Visualisation 1 (after 20 batches):\n",
    " Let's visualize the the policy learned above!"
   ]
  },
  {
   "cell_type": "code",
   "execution_count": 9,
   "metadata": {},
   "outputs": [
    {
     "data": {
      "image/png": "[encoded data removed]",
      "text/plain": [
       "<Figure size 640x480 with 1 Axes>"
      ]
     },
     "metadata": {},
     "output_type": "display_data"
    }
   ],
   "source": [
    "session.test(num_episodes=2)"
   ]
  },
  {
   "attachments": {},
   "cell_type": "markdown",
   "metadata": {},
   "source": [
    "### Visualization 2: After 70 batches\n",
    "Continue learning for a bit from where we took off\n",
    "(Check our TensorBoard first, because once you continue training it won't show prior progress)"
   ]
  },
  {
   "cell_type": "code",
   "execution_count": 7,
   "metadata": {},
   "outputs": [],
   "source": [
    "%%capture \n",
    "# run a few more batches\n",
    "session.train(max_num_batches=50) "
   ]
  },
  {
   "attachments": {},
   "cell_type": "markdown",
   "metadata": {},
   "source": [
    "##### The rewards in TensorBoard might already give you an indication, whether this thing is going to do better than what we avhieved after a few batches in **Visualisation 1**\n",
    "\n",
    "- Can you see an improvement in the policy?"
   ]
  },
  {
   "cell_type": "code",
   "execution_count": 10,
   "metadata": {},
   "outputs": [
    {
     "data": {
      "image/png": "[encoded data removed]",
      "text/plain": [
       "<Figure size 640x480 with 1 Axes>"
      ]
     },
     "metadata": {},
     "output_type": "display_data"
    }
   ],
   "source": [
    "session.test(num_episodes=2)"
   ]
  },
  {
   "attachments": {},
   "cell_type": "markdown",
   "metadata": {},
   "source": [
    "### You can play around in this Notebook section, by changing the train() configurations above and starting all over, you might find a configuration that leads to success, who knows :)\n",
    "- Play with learning rates and gradient clipnorm\n",
    "- Play with activation function and initializer\n",
    "- You can also switch environment to 'MountainCarContinuous-v0' or use the Bullet version of CartPole 'CartPoleContinuousBulletEnv-v0'\n",
    "\n",
    "#### Here is a full list of Session() arguments:\n",
    "    \"\"\"\n",
    "    Defines a training session prior to starting training.\n",
    "\n",
    "    env_str:                [\"ContinuousCartPoleEnv\" \"CartPoleContinuousBulletEnv-v0\" \"MountainCarContinuous-v0\"]\n",
    "    converged_reward_limit: If mean reward over 100 episodes is >= 'converged_reward_limit' training stops\n",
    "                            [NOTE: only well defined for CartPole, for every other environment set to a very high number and adjust with 'train(max_num_batches)' only]\n",
    "    gradient_clipnorm:      None/float introduces gradient clipping into the update of both NN.\n",
    "                            [NOTE: If set, all gradients are clipped such that their norm is <= gradient_clipnorm]\n",
    "    lr_actor = 0.00002      You can set your own learning rates\n",
    "    lr_critic = 0.001       You can set your own learning rates\n",
    "    activation_function:    ['relu', 'mish']\n",
    "    initializer:            ['normal', 'xavier']\n",
    "    state_normalization:    True/False\n",
    "    specification:          string (You can add a custom add_on to the name of the session)\n",
    "    use_existing_policy:    True/False\n",
    "    policy:                 =None / path to dir of form 'A2C281120221423CartPole-v1_mish' relative to AppliedDeep../training_continuous/ as string\n",
    "                            [NOTE: if policy is not provided, you will be asked to provide the Session-name of the policy you want to reuse \n",
    "                            (path to dir of form 'A2C281120221423CartPole-v1_mish' relative to AppliedDeep../training_continuous/ dir as string)]\n",
    "    \"\"\"\n",
    "\n",
    "## III Convergence analysis and comparisson to the shared_NN implementation\n",
    "\n"
   ]
  },
  {
   "cell_type": "code",
   "execution_count": null,
   "metadata": {},
   "outputs": [],
   "source": [
    "tb_pretrained = os.getcwd()+'/training_continuous/distinct_NN/pretrained/'\n",
    "\n",
    "%tensorboard --logdir {tb_pretrained}"
   ]
  }
 ],
 "metadata": {
  "kernelspec": {
   "display_name": "Python 3",
   "language": "python",
   "name": "python3"
  },
  "language_info": {
   "codemirror_mode": {
    "name": "ipython",
    "version": 3
   },
   "file_extension": ".py",
   "mimetype": "text/x-python",
   "name": "python",
   "nbconvert_exporter": "python",
   "pygments_lexer": "ipython3",
   "version": "3.8.10"
  },
  "orig_nbformat": 4,
  "vscode": {
   "interpreter": {
    "hash": "916dbcbb3f70747c44a77c7bcd40155683ae19c65e1c03b4aa3499c5328201f1"
   }
  }
 },
 "nbformat": 4,
 "nbformat_minor": 2
}
