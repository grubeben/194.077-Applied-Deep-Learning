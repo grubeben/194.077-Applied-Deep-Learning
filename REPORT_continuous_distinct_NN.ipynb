{
 "cells": [
  {
   "cell_type": "code",
   "execution_count": 8,
   "metadata": {},
   "outputs": [],
   "source": [
    "%%capture \n",
    "#hide loading information\n",
    "\n",
    "#import python files and modules\n",
    "import tensorflow as tf\n",
    "import datetime, os\n",
    "import a2cagent_continuous_distinct_NN\n",
    "import train_continuous_distinct_NN as train\n",
    ";"
   ]
  },
  {
   "attachments": {},
   "cell_type": "markdown",
   "metadata": {},
   "source": [
    "# This is the control room for A2C training with continuous action-space\n",
    "It will allow you to..\n",
    "* Play around with an n-step A2C agent (**I**), follow it's live performance and visualize the learned policy (**II**)\n",
    "* Get an insight into how different agent configurations affect performance and convergence stability (**III** )\n",
    "\n",
    "### How to\n",
    "* If you want to see the agent training in live just follow the notebook instructions in the order presented\n",
    "* If you are in a hurry and are just interested in the results this A2C- implementation achieved, fast forward to (**III**)\n",
    "* For details on the methods that are used to train the agent, please refer to the 'train_continuous_distinct_NN.py' and 'a2cagent_continuous_distinct_NN.py' scripts, you will find documentation there\n",
    "* For more theoretical background on the A2C method, please refer to the **FOUNDATIONS** section in the README.md file"
   ]
  },
  {
   "attachments": {},
   "cell_type": "markdown",
   "metadata": {},
   "source": [
    "## Information on the distinct_NN agent\n",
    "\n",
    "- Some articles mentioned **gradient clipping** to be essential to the continuous agent's learning progress, so this is a new feature\n",
    "\n",
    "- $learning-rate_{critic} >> learning-rate_{actor}$  (lr values can now also be set as argument when starting a sesion)\n",
    "\n",
    "**DIFFERENCES TO THE *SHARED_NN*-VERSION:**\n",
    "\n",
    "- critic NN layers have more nodes than actor NN now (**100 to 60** whereas before both had **60**) (this was suggested in literature)\n",
    "\n",
    "- I ran a few runs without **entropy-loss** addition to the loss and obtained way better results.. (the diefference is shown in the very bottom tensorboard of this notebook) I am unsure if and what might be wrong about the entropy_loss function, anyways I deactived it for now\n",
    "\n",
    "        \"\"\"\n",
    "    \n",
    "        #lets penalize high uncertainty (== wide streched norm dist)\n",
    "        def entropy_loss(self, norm_dist):\n",
    "                    \n",
    "            return - norm_dist.entropy()\n",
    "        \n",
    "        \"\"\"\n",
    "\n",
    "## I Use the A2C to learn a control task\n",
    "\n",
    "#### Enable TensorBoard"
   ]
  },
  {
   "cell_type": "code",
   "execution_count": null,
   "metadata": {},
   "outputs": [],
   "source": [
    "%load_ext tensorboard"
   ]
  },
  {
   "attachments": {},
   "cell_type": "markdown",
   "metadata": {},
   "source": [
    "#### Initialize Training Session"
   ]
  },
  {
   "cell_type": "code",
   "execution_count": 11,
   "metadata": {},
   "outputs": [],
   "source": [
    "%%capture\n",
    "session = train.Session(converged_reward_limit=195, env_str=\"ContinuousCartPoleEnv\", gradient_clipnorm=None, lr_actor=0.0001,lr_critic=0.001, \n",
    "activation_function='relu', initializer='xavier', state_normalization=False, batch_normalization=False, specification=\"JUPYTER_DEMO_RUN\", use_existing_policy=False)\n",
    "# run for 1 batch to initialize\n",
    "session.train(max_num_batches=1)\n",
    "# define tensorflow data log\n",
    "tb_dir = session.model.tb_path + '/'\n",
    ";"
   ]
  },
  {
   "attachments": {},
   "cell_type": "markdown",
   "metadata": {},
   "source": [
    "#### Start TensorBoard Session\n",
    "1. Run the next block twice (until TensorBoard shows up)\n",
    "2. Use the 'Settings'-button on the top right corner and activate 'Reload data'  (alternatively make yourself familiar with the 'Update' button)\n",
    "3. **Settings>General>HorizontalAxis>Relative** might make for a better experience\n",
    "\n",
    "*NOTE (y-axis)*: \n",
    "\n",
    "If you use HorizontalAxis> Step rewards are visualized over 'number of episodes', while losses are visualized over 'number of batches'"
   ]
  },
  {
   "cell_type": "code",
   "execution_count": null,
   "metadata": {},
   "outputs": [],
   "source": [
    "%tensorboard --logdir {tb_dir}"
   ]
  },
  {
   "attachments": {},
   "cell_type": "markdown",
   "metadata": {},
   "source": [
    "### Start training and interupt for visualization\n",
    "1. By executing the next block, training will be initialized\n",
    "2. In order to watch progress return to TensorBoard Dashboard\n",
    "\n",
    "Dashboard will be updated every 30sec or else when you hit the 'Update' button\n",
    "\n",
    "##### We will now run the training script for short number of episodes, before we interrupt the effort in order to visualize the control behaviour. We might be able to derive some clues from this:"
   ]
  },
  {
   "cell_type": "code",
   "execution_count": 12,
   "metadata": {},
   "outputs": [],
   "source": [
    "%%capture \n",
    "# we will just run a few batches\n",
    "session.train(max_num_batches=20) "
   ]
  },
  {
   "attachments": {},
   "cell_type": "markdown",
   "metadata": {},
   "source": [
    "\n",
    "#### Visualisation 1 (after 20 batches):\n",
    " Let's visualize the policy learned above!"
   ]
  },
  {
   "cell_type": "code",
   "execution_count": 13,
   "metadata": {},
   "outputs": [
    {
     "data": {
      "image/png": "[encoded data removed]",
      "text/plain": [
       "<Figure size 640x480 with 1 Axes>"
      ]
     },
     "metadata": {},
     "output_type": "display_data"
    }
   ],
   "source": [
    "session.test(num_episodes=2)"
   ]
  },
  {
   "attachments": {},
   "cell_type": "markdown",
   "metadata": {},
   "source": [
    "### Visualization 2: After 70 batches\n",
    "Continue learning for a bit from where we took off\n",
    "(Check our TensorBoard first, because once you continue training it won't show prior progress)"
   ]
  },
  {
   "cell_type": "code",
   "execution_count": null,
   "metadata": {},
   "outputs": [],
   "source": [
    "%%capture \n",
    "# run a few more batches\n",
    "session.train(max_num_batches=50) "
   ]
  },
  {
   "attachments": {},
   "cell_type": "markdown",
   "metadata": {},
   "source": [
    "##### The rewards in TensorBoard might already give you an indication, whether this thing is going to do better than what we achieved after a few batches in **Visualisation 1**\n",
    "\n",
    "- Can you see an improvement in the policy?"
   ]
  },
  {
   "cell_type": "code",
   "execution_count": null,
   "metadata": {},
   "outputs": [],
   "source": [
    "session.test(num_episodes=2)"
   ]
  },
  {
   "attachments": {},
   "cell_type": "markdown",
   "metadata": {},
   "source": [
    "### You can play around in this Notebook section, by changing the train() configurations above and starting at the \"Initialize training session\"-cell.\n",
    "- Play with learning rates and gradient clipnorm\n",
    "- Play with activation function and initializer\n",
    "- You can also switch environment to 'MountainCarContinuous-v0' or use the Bullet version of CartPole 'CartPoleContinuousBulletEnv-v0'\n",
    "\n",
    "#### Here is a full list of Session() arguments:\n",
    "    \"\"\"\n",
    "    Defines a training session prior to starting training.\n",
    "\n",
    "    env_str:                [\"ContinuousCartPoleEnv\" \"CartPoleContinuousBulletEnv-v0\" \"MountainCarContinuous-v0\"]\n",
    "    converged_reward_limit: If mean reward over 100 episodes is >= 'converged_reward_limit' training stops\n",
    "                            [NOTE: only well defined for CartPole, for every other environment set to a very high number and adjust with 'train(max_num_batches)' only]\n",
    "    gradient_clipnorm:      None/float introduces gradient clipping into the update of both NN.\n",
    "                            [NOTE: If set, all gradients are clipped such that their norm is <= gradient_clipnorm]\n",
    "    lr_actor = 0.00002      You can set your own learning rates\n",
    "    lr_critic = 0.001       You can set your own learning rates\n",
    "    activation_function:    ['relu', 'mish']\n",
    "    initializer:            ['normal', 'xavier']\n",
    "    state_normalization:    True/False\n",
    "    batch_normalization:    True/False\n",
    "    specification:          string (You can add a custom add_on to the name of the session)\n",
    "    use_existing_policy:    True/False\n",
    "    policy:                 =None / path to dir of form 'A2C281120221423CartPole-v1_mish' relative to AppliedDeep../training_continuous/ as string\n",
    "                            [NOTE: if policy is not provided, you will be asked to provide the Session-name of the policy you want to reuse \n",
    "                            (path to dir of form 'A2C281120221423CartPole-v1_mish' relative to AppliedDeep../training_continuous/ dir as string)]\n",
    "    \"\"\"\n",
    "\n"
   ]
  },
  {
   "attachments": {},
   "cell_type": "markdown",
   "metadata": {},
   "source": [
    "## III Convergence analysis and comparisson to the shared_NN implementation\n",
    "\n",
    "Similar to the investigations made in 'REPORT_discrete.ipynb' the following experiment will show how much of an impact different main configurations (**weight-initializers**, **activation-functions** and **normalization-layers** ) have on training performance. We will additionally try for different **gradient_clipnorm** values and **learning-rates** if and once we get a feeling for which main configurations are favorable.\n",
    "\n",
    "### On the adaptions\n",
    "* **Weight-initializers**: If we manage to initialize the NN-weights in a fortunate manner right from the beginning, training might progress faster\n",
    "* **Normalization-layers**: \n",
    "    * **Normalizing the input to the NN** (based on prior state experiences) the network will act solely on the variance from what it has known to be the average. This might decrease sensibility to inputs with large variance (obsversation space [-inf, inf])\n",
    "* **Activation functions**: This is interesting, because different activation functions obviously return differently fine-grained information of what the input the the layer has been, however, some of them are more costly to compute than others, hence: the ideal activation has to be a compromise of both\n",
    "\n",
    "* **gradient-clipnorm** enables us to dampen huge gradients, making for a more stable learning curve\n",
    "* **learning-rate** Playing with different learning rates/ratios for actor and critic enables us to set which of the networks learns faster\n",
    "\n",
    "\n",
    "The resulting policies are safed in the *'training_continuous/distinct_NN/pretrained'* folder and there convergence behaviour is visualized below\n",
    "\n",
    "**Please note, that hyperparameters such as *batch_size*, *layer_size* etc. have not been altered.**\n",
    "\n",
    "### Notes regardind TensorBoard\n",
    "* It might again be necessary to run the block twice\n",
    "* Untick the failing agents on the left bar in order to 'unsqueeze' the perfromance of those that acutally delivered fast learning results OR BETTER: choose **Settings> General> Horizontal Axis> Relative** on the right side of the DashBoard"
   ]
  },
  {
   "cell_type": "code",
   "execution_count": null,
   "metadata": {},
   "outputs": [],
   "source": [
    "tb_pretrained = os.getcwd()+'/training_continuous/distinct_NN/pretrained/'\n",
    "\n",
    "%tensorboard --logdir {tb_pretrained}"
   ]
  },
  {
   "attachments": {},
   "cell_type": "markdown",
   "metadata": {},
   "source": [
    "### Some further information and analysis on the graphs above\n",
    "\n",
    "#### I did not save all configurations, but held on to those that can help visualize the following points:\n",
    "\n",
    "- relu + normal initialization is most effecive\n",
    "- state normalisation alone seems to have a negative affect\n",
    "- **using batch normalization yields the best results, but followed by a collapse either way** (it achieved a max_reward run with total_reward=~180)\n",
    "- using normalization interestingly is not helping\n",
    "\n",
    "- The higher $\\frac{lr_{critic}}{lr_{actor}}$ for the *'batch normalization activated set up'* the faster and *higher peak performance will be*\n",
    "- gradient clipping seems to decrease learning speed and performance for the *'batch normalizations activated set up'*\n",
    "\n",
    "#### Performance overall is very meager performance. However, while we see that the losses are decreasing nicely, investigation into which losses it is that are converging, does make sense. A typical run would project something like this (for $\\frac{lr_{critic}}{lr_{actor}}=10$).\n",
    "\n",
    "    \"\"\"     \n",
    "                                                            CRITIC LOSS         ACTOR LOSS\n",
    "            Episode: 5, latest episode reward: 36.0, loss: [94.08220672607422, 9.25880241394043]\n",
    "            Episode: 6, latest episode reward: 37.0, loss: [121.15396118164062, 10.626602172851562]\n",
    "            Episode: 7, latest episode reward: 10.0, loss: [121.15396118164062, 10.626602172851562]\n",
    "            Episode: 8, latest episode reward: 6.0, loss: [121.15396118164062, 10.626602172851562]\n",
    "            ...\n",
    "            Episode: 685, latest episode reward: 33.0, loss: [11.444113731384277, 0.7734909653663635]\n",
    "            Episode: 686, latest episode reward: 11.0, loss: [11.444113731384277, 0.7734909653663635]\n",
    "            Episode: 687, latest episode reward: 10.0, loss: [17.94942855834961, 1.7415549755096436]\n",
    "            Episode: 688, latest episode reward: 10.0, loss: [17.94942855834961, 1.7415549755096436]\n",
    "    \"\"\"\n",
    "\n",
    "#### So the largest part of the total_loss comes from the critic. It appears the critic does not learn very well. This would be surprising, since it is the exact same functions that make it learn as in the discrete version. (However, it has to be admitted that in the best working of the discrete case, the losses are of a similar range, while rewards are way way better)... \n",
    "\n",
    "#### TO SUM UP: PURE CONFUSION (There must some maldefinition of loss function but I cannot figure it out??)\n",
    "\n",
    "## Learnings\n",
    "(assuming that this implementation is in it's core functional)\n",
    "\n",
    "- what works for the discrete case does not necessarily help in the continuous case\n",
    "- the continuous case is not easy at all\n",
    "\n",
    "\n",
    "## Finally the best agent's policy demonstrated for 1 episode"
   ]
  },
  {
   "cell_type": "code",
   "execution_count": 14,
   "metadata": {},
   "outputs": [
    {
     "data": {
      "image/png": "[encoded data removed]",
      "text/plain": [
       "<Figure size 640x480 with 1 Axes>"
      ]
     },
     "metadata": {},
     "output_type": "display_data"
    }
   ],
   "source": [
    "best_session = train.Session(converged_reward_limit=195, env_str=\"ContinuousCartPoleEnv\", gradient_clipnorm=None, lr_actor=0.0002, lr_critic=0.001, activation_function='relu', initializer='normal',\n",
    "                      specification=\"SHOWCASE\", state_normalization=False, batch_normalization=True, use_existing_policy=True, policy=\"pretrained/CCartPole_relu_normal_lr_0.0002_0.001_BATCH_NORMALIZATION\")\n",
    "best_session.test(num_episodes=3)"
   ]
  },
  {
   "attachments": {},
   "cell_type": "markdown",
   "metadata": {},
   "source": [
    "### not entirely awful, but far from what we have seen in the discrete agent..\n",
    "\n",
    "## Thanks for following this Notebook-series!"
   ]
  }
 ],
 "metadata": {
  "kernelspec": {
   "display_name": "Python 3",
   "language": "python",
   "name": "python3"
  },
  "language_info": {
   "codemirror_mode": {
    "name": "ipython",
    "version": 3
   },
   "file_extension": ".py",
   "mimetype": "text/x-python",
   "name": "python",
   "nbconvert_exporter": "python",
   "pygments_lexer": "ipython3",
   "version": "3.8.10"
  },
  "orig_nbformat": 4,
  "vscode": {
   "interpreter": {
    "hash": "916dbcbb3f70747c44a77c7bcd40155683ae19c65e1c03b4aa3499c5328201f1"
   }
  }
 },
 "nbformat": 4,
 "nbformat_minor": 2
}
